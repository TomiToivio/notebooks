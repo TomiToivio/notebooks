{
 "cells": [
  {
   "cell_type": "markdown",
   "id": "f2bfc099",
   "metadata": {
    "papermill": {
     "duration": 0.005897,
     "end_time": "2023-11-12T13:27:09.923591",
     "exception": false,
     "start_time": "2023-11-12T13:27:09.917694",
     "status": "completed"
    },
    "tags": []
   },
   "source": [
    "**This notebook is an exercise in the [Intro to Game AI and Reinforcement Learning](https://www.kaggle.com/learn/intro-to-game-ai-and-reinforcement-learning) course.  You can reference the tutorial at [this link](https://www.kaggle.com/alexisbcook/one-step-lookahead).**\n",
    "\n",
    "---\n"
   ]
  },
  {
   "cell_type": "markdown",
   "id": "fb889058",
   "metadata": {
    "papermill": {
     "duration": 0.00498,
     "end_time": "2023-11-12T13:27:09.934216",
     "exception": false,
     "start_time": "2023-11-12T13:27:09.929236",
     "status": "completed"
    },
    "tags": []
   },
   "source": [
    "# Introduction\n",
    "\n",
    "In the tutorial, you learned how to define a simple heuristic that the agent used to select moves.  In this exercise, you'll check your understanding and make the heuristic more complex.\n",
    "\n",
    "To get started, run the code cell below to set up our feedback system."
   ]
  },
  {
   "cell_type": "code",
   "execution_count": 1,
   "id": "5f2d57fb",
   "metadata": {
    "execution": {
     "iopub.execute_input": "2023-11-12T13:27:09.946938Z",
     "iopub.status.busy": "2023-11-12T13:27:09.946534Z",
     "iopub.status.idle": "2023-11-12T13:27:10.707246Z",
     "shell.execute_reply": "2023-11-12T13:27:10.706047Z"
    },
    "papermill": {
     "duration": 0.770488,
     "end_time": "2023-11-12T13:27:10.709990",
     "exception": false,
     "start_time": "2023-11-12T13:27:09.939502",
     "status": "completed"
    },
    "tags": []
   },
   "outputs": [
    {
     "name": "stdout",
     "output_type": "stream",
     "text": [
      "Loading environment lux_ai_s2 failed: No module named 'vec_noise'\n"
     ]
    }
   ],
   "source": [
    "from learntools.core import binder\n",
    "binder.bind(globals())\n",
    "from learntools.game_ai.ex2 import *"
   ]
  },
  {
   "cell_type": "markdown",
   "id": "dfb13606",
   "metadata": {
    "papermill": {
     "duration": 0.005272,
     "end_time": "2023-11-12T13:27:10.721043",
     "exception": false,
     "start_time": "2023-11-12T13:27:10.715771",
     "status": "completed"
    },
    "tags": []
   },
   "source": [
    "### 1) A more complex heuristic\n",
    "\n",
    "The heuristic from the tutorial looks at all groups of four adjacent grid locations on the same row, column, or diagonal and assigns points for each occurrence of the following patterns:\n",
    "\n",
    "<center>\n",
    "<img src=\"https://storage.googleapis.com/kaggle-media/learn/images/vzQa4ML.png\" width=60%><br/>\n",
    "</center>\n",
    "\n",
    "In the image above, we assume that the agent is the red player, and the opponent plays yellow discs.\n",
    "\n",
    "For reference, here is the `get_heuristic()` function from the tutorial:\n",
    "```python\n",
    "def get_heuristic(grid, mark, config):\n",
    "    num_threes = count_windows(grid, 3, mark, config)\n",
    "    num_fours = count_windows(grid, 4, mark, config)\n",
    "    num_threes_opp = count_windows(grid, 3, mark%2+1, config)\n",
    "    score = num_threes - 1e2*num_threes_opp + 1e6*num_fours\n",
    "    return score\n",
    "```\n",
    "\n",
    "In the `get_heuristic()` function, `num_fours`, `num_threes`, and `num_threes_opp` are the number of windows in the game grid that are assigned 1000000, 1, and -100 point(s), respectively. \n",
    "    \n",
    "In this tutorial, you'll change the heuristic to the following (where you decide the number of points to apply in each of `A`, `B`, `C`, `D`, and `E`).  You will define these values in the code cell below.\n",
    "\n",
    "<center>\n",
    "<img src=\"https://storage.googleapis.com/kaggle-media/learn/images/FBoWr2f.png\" width=80%><br/>\n",
    "</center>\n",
    "    \n",
    "\n",
    "To check your answer, we use your values to create a heuristic function as follows:\n",
    "\n",
    "```python\n",
    "def get_heuristic_q1(grid, col, mark, config):\n",
    "    num_twos = count_windows(grid, 2, mark, config)\n",
    "    num_threes = count_windows(grid, 3, mark, config)\n",
    "    num_fours = count_windows(grid, 4, mark, config)\n",
    "    num_twos_opp = count_windows(grid, 2, mark%2+1, config)\n",
    "    num_threes_opp = count_windows(grid, 3, mark%2+1, config)\n",
    "    score = A*num_fours + B*num_threes + C*num_twos + D*num_twos_opp + E*num_threes_opp\n",
    "    return score\n",
    "```\n",
    "\n",
    "This heuristic is then used to create an agent, that competes against the agent from the tutorial in 50 different game rounds.  In order to be marked correct, \n",
    "- your agent must win at least half of the games, and\n",
    "- `C` and `D` must both be nonzero."
   ]
  },
  {
   "cell_type": "code",
   "execution_count": 2,
   "id": "b95a4639",
   "metadata": {
    "execution": {
     "iopub.execute_input": "2023-11-12T13:27:10.734383Z",
     "iopub.status.busy": "2023-11-12T13:27:10.733352Z",
     "iopub.status.idle": "2023-11-12T13:27:31.400937Z",
     "shell.execute_reply": "2023-11-12T13:27:31.399578Z"
    },
    "papermill": {
     "duration": 20.676974,
     "end_time": "2023-11-12T13:27:31.403514",
     "exception": false,
     "start_time": "2023-11-12T13:27:10.726540",
     "status": "completed"
    },
    "tags": []
   },
   "outputs": [
    {
     "name": "stdout",
     "output_type": "stream",
     "text": [
      "Your Agent's Win Percentage (in 50 game rounds): 0.84\n",
      "Tutorial Agent's Win Percentage (in 50 game rounds): 0.16\n"
     ]
    },
    {
     "data": {
      "application/javascript": [
       "parent.postMessage({\"jupyterEvent\": \"custom.exercise_interaction\", \"data\": {\"outcomeType\": 1, \"valueTowardsCompletion\": 0.3333333333333333, \"interactionType\": 1, \"questionType\": 2, \"questionId\": \"1_BetterHeuristic\", \"learnToolsVersion\": \"0.3.4\", \"failureMessage\": \"\", \"exceptionClass\": \"\", \"trace\": \"\"}}, \"*\")"
      ],
      "text/plain": [
       "<IPython.core.display.Javascript object>"
      ]
     },
     "metadata": {},
     "output_type": "display_data"
    },
    {
     "data": {
      "text/markdown": [
       "<span style=\"color:#33cc33\">Correct</span>"
      ],
      "text/plain": [
       "Correct"
      ]
     },
     "metadata": {},
     "output_type": "display_data"
    }
   ],
   "source": [
    "# TODO: Assign your values here\n",
    "A = 1000\n",
    "B = 10\n",
    "C = 1\n",
    "D = -1\n",
    "E = -100\n",
    "\n",
    "# Check your answer (this will take a few seconds to run!)\n",
    "q_1.check()"
   ]
  },
  {
   "cell_type": "code",
   "execution_count": 3,
   "id": "17d9aa82",
   "metadata": {
    "execution": {
     "iopub.execute_input": "2023-11-12T13:27:31.419123Z",
     "iopub.status.busy": "2023-11-12T13:27:31.418648Z",
     "iopub.status.idle": "2023-11-12T13:27:31.424544Z",
     "shell.execute_reply": "2023-11-12T13:27:31.423163Z"
    },
    "papermill": {
     "duration": 0.016919,
     "end_time": "2023-11-12T13:27:31.427233",
     "exception": false,
     "start_time": "2023-11-12T13:27:31.410314",
     "status": "completed"
    },
    "tags": []
   },
   "outputs": [],
   "source": [
    "# Lines below will give you a hint or solution code\n",
    "#q_1.hint()\n",
    "#q_1.solution()"
   ]
  },
  {
   "cell_type": "markdown",
   "id": "73632feb",
   "metadata": {
    "papermill": {
     "duration": 0.006135,
     "end_time": "2023-11-12T13:27:31.439465",
     "exception": false,
     "start_time": "2023-11-12T13:27:31.433330",
     "status": "completed"
    },
    "tags": []
   },
   "source": [
    "### 2) Does the agent win?\n",
    "\n",
    "Consider the game board below.  \n",
    "\n",
    "<center>\n",
    "<img src=\"https://storage.googleapis.com/kaggle-media/learn/images/AlnaQ3J.png\" width=30%><br/>\n",
    "</center>\n",
    "\n",
    "Say the agent uses red discs, and it's the agent's turn.  \n",
    "- If the agent uses the heuristic **_from the tutorial_**, does it win or lose the game?\n",
    "- If the agent uses the heuristic **_that you just implemented_**, does it win or lose the game?"
   ]
  },
  {
   "cell_type": "code",
   "execution_count": 4,
   "id": "29ecd401",
   "metadata": {
    "execution": {
     "iopub.execute_input": "2023-11-12T13:27:31.453454Z",
     "iopub.status.busy": "2023-11-12T13:27:31.453014Z",
     "iopub.status.idle": "2023-11-12T13:27:31.457583Z",
     "shell.execute_reply": "2023-11-12T13:27:31.456611Z"
    },
    "papermill": {
     "duration": 0.01442,
     "end_time": "2023-11-12T13:27:31.460024",
     "exception": false,
     "start_time": "2023-11-12T13:27:31.445604",
     "status": "completed"
    },
    "tags": []
   },
   "outputs": [],
   "source": [
    "#q_2.hint()"
   ]
  },
  {
   "cell_type": "code",
   "execution_count": 5,
   "id": "9a987647",
   "metadata": {
    "execution": {
     "iopub.execute_input": "2023-11-12T13:27:31.475432Z",
     "iopub.status.busy": "2023-11-12T13:27:31.475019Z",
     "iopub.status.idle": "2023-11-12T13:27:31.485745Z",
     "shell.execute_reply": "2023-11-12T13:27:31.484046Z"
    },
    "papermill": {
     "duration": 0.021823,
     "end_time": "2023-11-12T13:27:31.488557",
     "exception": false,
     "start_time": "2023-11-12T13:27:31.466734",
     "status": "completed"
    },
    "tags": []
   },
   "outputs": [
    {
     "data": {
      "application/javascript": [
       "parent.postMessage({\"jupyterEvent\": \"custom.exercise_interaction\", \"data\": {\"interactionType\": 3, \"questionType\": 4, \"questionId\": \"2_BothLose\", \"learnToolsVersion\": \"0.3.4\", \"valueTowardsCompletion\": 0.0, \"failureMessage\": \"\", \"exceptionClass\": \"\", \"trace\": \"\", \"outcomeType\": 4}}, \"*\")"
      ],
      "text/plain": [
       "<IPython.core.display.Javascript object>"
      ]
     },
     "metadata": {},
     "output_type": "display_data"
    },
    {
     "data": {
      "text/markdown": [
       "<span style=\"color:#33cc99\">Solution:</span> The agent has two choices: it can play in either column 0 (the leftmost column), or column 6 (the rightmost column). If the agent plays in column 0, it definitely wins the game in its next move.  And, if it plays in column 6, it likely loses the game (since, if the opponent responds by playing in the same column, then the opponent wins the game). \n",
       "\n",
       "If the agent uses the heuristic **from the tutorial**, both columns are scored equally, and so the agent will select from them (uniformly) at random.  In this case, the agent has about a 50/50 chance of winning the game. \n",
       "\n",
       "As for the heuristic **that** **you just implemented**, this will depend on your implementation, so we'll provide an answer for the solution heuristic that we provided -- in this case, the agent most likely loses the game, since it will definitely select the final column. \n",
       "\n",
       "This is an interesting situation, because on average, we see that the agent with the new heuristic performs better than the agent from the tutorial (and yet, for this board, it's guaranteed to make the wrong decision)."
      ],
      "text/plain": [
       "Solution: The agent has two choices: it can play in either column 0 (the leftmost column), or column 6 (the rightmost column). If the agent plays in column 0, it definitely wins the game in its next move.  And, if it plays in column 6, it likely loses the game (since, if the opponent responds by playing in the same column, then the opponent wins the game). \n",
       "\n",
       "If the agent uses the heuristic **from the tutorial**, both columns are scored equally, and so the agent will select from them (uniformly) at random.  In this case, the agent has about a 50/50 chance of winning the game. \n",
       "\n",
       "As for the heuristic **that** **you just implemented**, this will depend on your implementation, so we'll provide an answer for the solution heuristic that we provided -- in this case, the agent most likely loses the game, since it will definitely select the final column. \n",
       "\n",
       "This is an interesting situation, because on average, we see that the agent with the new heuristic performs better than the agent from the tutorial (and yet, for this board, it's guaranteed to make the wrong decision)."
      ]
     },
     "metadata": {},
     "output_type": "display_data"
    }
   ],
   "source": [
    "# Check your answer (Run this code cell to receive credit!)\n",
    "q_2.solution()"
   ]
  },
  {
   "cell_type": "markdown",
   "id": "4ca56958",
   "metadata": {
    "papermill": {
     "duration": 0.00612,
     "end_time": "2023-11-12T13:27:31.501302",
     "exception": false,
     "start_time": "2023-11-12T13:27:31.495182",
     "status": "completed"
    },
    "tags": []
   },
   "source": [
    "### 3) Submit to the competition\n",
    "\n",
    "Now, it's time to submit an agent to the competition!  Use the next code cell to define an agent.  (You can see an example of how to write a valid agent in **[this notebook](https://www.kaggle.com/alexisbcook/create-a-connectx-agent)**.)\n",
    "\n",
    "You're encouraged to use what you learned in the first question of this exercise to write an agent.  Use the code from the tutorial as a starting point. "
   ]
  },
  {
   "cell_type": "code",
   "execution_count": 6,
   "id": "cf2946a1",
   "metadata": {
    "execution": {
     "iopub.execute_input": "2023-11-12T13:27:31.517739Z",
     "iopub.status.busy": "2023-11-12T13:27:31.517335Z",
     "iopub.status.idle": "2023-11-12T13:27:31.542434Z",
     "shell.execute_reply": "2023-11-12T13:27:31.541398Z"
    },
    "papermill": {
     "duration": 0.036694,
     "end_time": "2023-11-12T13:27:31.544875",
     "exception": false,
     "start_time": "2023-11-12T13:27:31.508181",
     "status": "completed"
    },
    "tags": []
   },
   "outputs": [],
   "source": [
    "def my_agent(obs, config):\n",
    "    # Your code here: Amend the agent!\n",
    "    import random\n",
    "    import numpy as np\n",
    "\n",
    "    # Gets board at next step if agent drops piece in selected column\n",
    "    def drop_piece(grid, col, piece, config):\n",
    "        next_grid = grid.copy()\n",
    "        for row in range(config.rows-1, -1, -1):\n",
    "            if next_grid[row][col] == 0:\n",
    "                break\n",
    "        next_grid[row][col] = piece\n",
    "        return next_grid\n",
    "\n",
    "    def get_heuristic(grid, col, mark, config):\n",
    "        A = 1000\n",
    "        B = 10\n",
    "        C = 1\n",
    "        D = -1\n",
    "        E = -100\n",
    "        num_twos = count_windows(grid, 2, mark, config)\n",
    "        num_threes = count_windows(grid, 3, mark, config)\n",
    "        num_fours = count_windows(grid, 4, mark, config)\n",
    "        num_twos_opp = count_windows(grid, 2, mark%2+1, config)\n",
    "        num_threes_opp = count_windows(grid, 3, mark%2+1, config)\n",
    "        score = A*num_fours + B*num_threes + C*num_twos + D*num_twos_opp + E*num_threes_opp\n",
    "        return score\n",
    "    \n",
    "    # Returns True if dropping piece in column results in game win\n",
    "    def check_winning_move(obs, config, col, piece):\n",
    "        # Convert the board to a 2D grid\n",
    "        grid = np.asarray(obs.board).reshape(config.rows, config.columns)\n",
    "        next_grid = drop_piece(grid, col, piece, config)\n",
    "        # horizontal\n",
    "        for row in range(config.rows):\n",
    "            for col in range(config.columns-(config.inarow-1)):\n",
    "                window = list(next_grid[row,col:col+config.inarow])\n",
    "                if window.count(piece) == config.inarow:\n",
    "                    return True\n",
    "        # vertical\n",
    "        for row in range(config.rows-(config.inarow-1)):\n",
    "            for col in range(config.columns):\n",
    "                window = list(next_grid[row:row+config.inarow,col])\n",
    "                if window.count(piece) == config.inarow:\n",
    "                    return True\n",
    "        # positive diagonal\n",
    "        for row in range(config.rows-(config.inarow-1)):\n",
    "            for col in range(config.columns-(config.inarow-1)):\n",
    "                window = list(next_grid[range(row, row+config.inarow), range(col, col+config.inarow)])\n",
    "                if window.count(piece) == config.inarow:\n",
    "                    return True\n",
    "        # negative diagonal\n",
    "        for row in range(config.inarow-1, config.rows):\n",
    "            for col in range(config.columns-(config.inarow-1)):\n",
    "                window = list(next_grid[range(row, row-config.inarow, -1), range(col, col+config.inarow)])\n",
    "                if window.count(piece) == config.inarow:\n",
    "                    return True\n",
    "        return False\n",
    "\n",
    "    valid_moves = [col for col in range(config.columns) if obs.board[col] == 0]\n",
    "    piece=obs.mark\n",
    "    score_moves = []\n",
    "    for move in valid_moves:\n",
    "        heuristic = get_heuristic(grid, move, mark, config)\n",
    "        add_heuristic = (move,heuristic)\n",
    "        score_moves.append(add_heuristic)\n",
    "        \n",
    "    best_move_tuple = sorted(score_moves,key=lambda x: x[1], reverse=True)[0]\n",
    "    return best_move_tuple[0]\n",
    "        \n",
    "    winning = False\n",
    "    for move in valid_moves:\n",
    "        winning = check_winning_move(obs, config, move, piece)\n",
    "        if winning: \n",
    "            return move\n",
    "    piece=obs.mark%2+1\n",
    "    for move in valid_moves:\n",
    "        winning = check_winning_move(obs, config, move, piece)\n",
    "        if winning: \n",
    "            return move\n",
    "    return random.choice(valid_moves)\n"
   ]
  },
  {
   "cell_type": "code",
   "execution_count": 7,
   "id": "beae3a9c",
   "metadata": {
    "execution": {
     "iopub.execute_input": "2023-11-12T13:27:31.559609Z",
     "iopub.status.busy": "2023-11-12T13:27:31.559211Z",
     "iopub.status.idle": "2023-11-12T13:27:31.568715Z",
     "shell.execute_reply": "2023-11-12T13:27:31.567355Z"
    },
    "papermill": {
     "duration": 0.019768,
     "end_time": "2023-11-12T13:27:31.571166",
     "exception": false,
     "start_time": "2023-11-12T13:27:31.551398",
     "status": "completed"
    },
    "tags": []
   },
   "outputs": [
    {
     "data": {
      "application/javascript": [
       "parent.postMessage({\"jupyterEvent\": \"custom.exercise_interaction\", \"data\": {\"outcomeType\": 1, \"valueTowardsCompletion\": 0.3333333333333333, \"interactionType\": 1, \"questionType\": 2, \"questionId\": \"3_CreateAgentEx2\", \"learnToolsVersion\": \"0.3.4\", \"failureMessage\": \"\", \"exceptionClass\": \"\", \"trace\": \"\"}}, \"*\")"
      ],
      "text/plain": [
       "<IPython.core.display.Javascript object>"
      ]
     },
     "metadata": {},
     "output_type": "display_data"
    },
    {
     "data": {
      "text/markdown": [
       "<span style=\"color:#33cc33\">Thank you for creating an agent!</span>"
      ],
      "text/plain": [
       "Thank you for creating an agent!"
      ]
     },
     "metadata": {},
     "output_type": "display_data"
    }
   ],
   "source": [
    "# Run this code cell to get credit for creating an agent\n",
    "q_3.check()"
   ]
  },
  {
   "cell_type": "markdown",
   "id": "d4547f91",
   "metadata": {
    "papermill": {
     "duration": 0.006397,
     "end_time": "2023-11-12T13:27:31.584401",
     "exception": false,
     "start_time": "2023-11-12T13:27:31.578004",
     "status": "completed"
    },
    "tags": []
   },
   "source": [
    "Run the next code cell to convert your agent to a submission file."
   ]
  },
  {
   "cell_type": "code",
   "execution_count": 8,
   "id": "5044d5b1",
   "metadata": {
    "execution": {
     "iopub.execute_input": "2023-11-12T13:27:31.600097Z",
     "iopub.status.busy": "2023-11-12T13:27:31.599607Z",
     "iopub.status.idle": "2023-11-12T13:27:31.614205Z",
     "shell.execute_reply": "2023-11-12T13:27:31.613032Z"
    },
    "papermill": {
     "duration": 0.025633,
     "end_time": "2023-11-12T13:27:31.616870",
     "exception": false,
     "start_time": "2023-11-12T13:27:31.591237",
     "status": "completed"
    },
    "tags": []
   },
   "outputs": [
    {
     "name": "stdout",
     "output_type": "stream",
     "text": [
      "<function my_agent at 0x7c314d1003a0> written to submission.py\n"
     ]
    }
   ],
   "source": [
    "import inspect\n",
    "import os\n",
    "\n",
    "def write_agent_to_file(function, file):\n",
    "    with open(file, \"a\" if os.path.exists(file) else \"w\") as f:\n",
    "        f.write(inspect.getsource(function))\n",
    "        print(function, \"written to\", file)\n",
    "\n",
    "write_agent_to_file(my_agent, \"submission.py\")"
   ]
  },
  {
   "cell_type": "markdown",
   "id": "e1ac56af",
   "metadata": {
    "papermill": {
     "duration": 0.006548,
     "end_time": "2023-11-12T13:27:31.630378",
     "exception": false,
     "start_time": "2023-11-12T13:27:31.623830",
     "status": "completed"
    },
    "tags": []
   },
   "source": [
    "Then, follow these steps to submit your agent to the competition:\n",
    "1. Begin by clicking on the **Save Version** button in the top right corner of the window.  This will generate a pop-up window.  \n",
    "2. Ensure that the **Save and Run All** option is selected, and then click on the **Save** button.\n",
    "3. This generates a window in the bottom left corner of the notebook.  After it has finished running, click on the number to the right of the **Save Version** button.  This pulls up a list of versions on the right of the screen.  Click on the ellipsis **(...)** to the right of the most recent version, and select **Open in Viewer**.  This brings you into view mode of the same page. You will need to scroll down to get back to these instructions.\n",
    "4. Click on the **Data** tab near the top of the screen.  Then, click on the file you would like to submit, and click on the **Submit** button to submit your results to the leaderboard.\n",
    "\n",
    "You have now successfully submitted to the competition!\n",
    "\n",
    "If you want to keep working to improve your performance, select the **Edit** button in the top right of the screen. Then you can change your code and repeat the process. There's a lot of room to improve, and you will climb up the leaderboard as you work.\n",
    "\n",
    "\n",
    "Go to **\"My Submissions\"** to view your score and episodes being played.\n",
    "\n",
    "# Keep going\n",
    "\n",
    "Move on to **[develop a longer-term strategy](https://www.kaggle.com/alexisbcook/n-step-lookahead)** with the minimax algorithm."
   ]
  },
  {
   "cell_type": "markdown",
   "id": "28d4dc24",
   "metadata": {
    "papermill": {
     "duration": 0.006579,
     "end_time": "2023-11-12T13:27:31.643850",
     "exception": false,
     "start_time": "2023-11-12T13:27:31.637271",
     "status": "completed"
    },
    "tags": []
   },
   "source": [
    "---\n",
    "\n",
    "\n",
    "\n",
    "\n",
    "*Have questions or comments? Visit the [course discussion forum](https://www.kaggle.com/learn/intro-to-game-ai-and-reinforcement-learning/discussion) to chat with other learners.*"
   ]
  }
 ],
 "metadata": {
  "kernelspec": {
   "display_name": "Python 3",
   "language": "python",
   "name": "python3"
  },
  "language_info": {
   "codemirror_mode": {
    "name": "ipython",
    "version": 3
   },
   "file_extension": ".py",
   "mimetype": "text/x-python",
   "name": "python",
   "nbconvert_exporter": "python",
   "pygments_lexer": "ipython3",
   "version": "3.10.12"
  },
  "papermill": {
   "default_parameters": {},
   "duration": 26.022961,
   "end_time": "2023-11-12T13:27:32.271572",
   "environment_variables": {},
   "exception": null,
   "input_path": "__notebook__.ipynb",
   "output_path": "__notebook__.ipynb",
   "parameters": {},
   "start_time": "2023-11-12T13:27:06.248611",
   "version": "2.4.0"
  }
 },
 "nbformat": 4,
 "nbformat_minor": 5
}
