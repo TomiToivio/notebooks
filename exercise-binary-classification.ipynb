{
 "cells": [
  {
   "cell_type": "markdown",
   "id": "ba2da233",
   "metadata": {
    "papermill": {
     "duration": 0.004638,
     "end_time": "2023-11-11T16:51:13.267432",
     "exception": false,
     "start_time": "2023-11-11T16:51:13.262794",
     "status": "completed"
    },
    "tags": []
   },
   "source": [
    "**This notebook is an exercise in the [Intro to Deep Learning](https://www.kaggle.com/learn/intro-to-deep-learning) course.  You can reference the tutorial at [this link](https://www.kaggle.com/ryanholbrook/binary-classification).**\n",
    "\n",
    "---\n"
   ]
  },
  {
   "cell_type": "markdown",
   "id": "120c2138",
   "metadata": {
    "papermill": {
     "duration": 0.003995,
     "end_time": "2023-11-11T16:51:13.276132",
     "exception": false,
     "start_time": "2023-11-11T16:51:13.272137",
     "status": "completed"
    },
    "tags": []
   },
   "source": [
    "# Introduction #\n",
    "\n",
    "In this exercise, you'll build a model to predict hotel cancellations with a binary classifier."
   ]
  },
  {
   "cell_type": "code",
   "execution_count": 1,
   "id": "e0cda893",
   "metadata": {
    "execution": {
     "iopub.execute_input": "2023-11-11T16:51:13.285810Z",
     "iopub.status.busy": "2023-11-11T16:51:13.285449Z",
     "iopub.status.idle": "2023-11-11T16:51:14.036452Z",
     "shell.execute_reply": "2023-11-11T16:51:14.035540Z"
    },
    "lines_to_next_cell": 0,
    "papermill": {
     "duration": 0.758631,
     "end_time": "2023-11-11T16:51:14.038835",
     "exception": false,
     "start_time": "2023-11-11T16:51:13.280204",
     "status": "completed"
    },
    "tags": []
   },
   "outputs": [
    {
     "name": "stderr",
     "output_type": "stream",
     "text": [
      "/tmp/ipykernel_26/3338970720.py:3: MatplotlibDeprecationWarning: The seaborn styles shipped by Matplotlib are deprecated since 3.6, as they no longer correspond to the styles shipped by seaborn. However, they will remain available as 'seaborn-v0_8-<style>'. Alternatively, directly use the seaborn API instead.\n",
      "  plt.style.use('seaborn-whitegrid')\n"
     ]
    }
   ],
   "source": [
    "# Setup plotting\n",
    "import matplotlib.pyplot as plt\n",
    "plt.style.use('seaborn-whitegrid')\n",
    "# Set Matplotlib defaults\n",
    "plt.rc('figure', autolayout=True)\n",
    "plt.rc('axes', labelweight='bold', labelsize='large',\n",
    "       titleweight='bold', titlesize=18, titlepad=10)\n",
    "plt.rc('animation', html='html5')\n",
    "\n",
    "# Setup feedback system\n",
    "from learntools.core import binder\n",
    "binder.bind(globals())\n",
    "from learntools.deep_learning_intro.ex6 import *"
   ]
  },
  {
   "cell_type": "markdown",
   "id": "17f5ad8b",
   "metadata": {
    "papermill": {
     "duration": 0.004154,
     "end_time": "2023-11-11T16:51:14.047815",
     "exception": false,
     "start_time": "2023-11-11T16:51:14.043661",
     "status": "completed"
    },
    "tags": []
   },
   "source": [
    "First, load the *Hotel Cancellations* dataset."
   ]
  },
  {
   "cell_type": "code",
   "execution_count": 2,
   "id": "1ad20f91",
   "metadata": {
    "execution": {
     "iopub.execute_input": "2023-11-11T16:51:14.057831Z",
     "iopub.status.busy": "2023-11-11T16:51:14.057421Z",
     "iopub.status.idle": "2023-11-11T16:51:16.538198Z",
     "shell.execute_reply": "2023-11-11T16:51:16.537241Z"
    },
    "lines_to_next_cell": 2,
    "papermill": {
     "duration": 2.488732,
     "end_time": "2023-11-11T16:51:16.540926",
     "exception": false,
     "start_time": "2023-11-11T16:51:14.052194",
     "status": "completed"
    },
    "tags": []
   },
   "outputs": [
    {
     "name": "stderr",
     "output_type": "stream",
     "text": [
      "/opt/conda/lib/python3.10/site-packages/scipy/__init__.py:146: UserWarning: A NumPy version >=1.16.5 and <1.23.0 is required for this version of SciPy (detected version 1.24.3\n",
      "  warnings.warn(f\"A NumPy version >={np_minversion} and <{np_maxversion}\"\n",
      "/opt/conda/lib/python3.10/site-packages/sklearn/utils/validation.py:605: FutureWarning: is_sparse is deprecated and will be removed in a future version. Check `isinstance(dtype, pd.SparseDtype)` instead.\n",
      "  if is_sparse(pd_dtype):\n",
      "/opt/conda/lib/python3.10/site-packages/sklearn/utils/validation.py:614: FutureWarning: is_sparse is deprecated and will be removed in a future version. Check `isinstance(dtype, pd.SparseDtype)` instead.\n",
      "  if is_sparse(pd_dtype) or not is_extension_array_dtype(pd_dtype):\n",
      "/opt/conda/lib/python3.10/site-packages/sklearn/utils/validation.py:767: FutureWarning: is_sparse is deprecated and will be removed in a future version. Check `isinstance(dtype, pd.SparseDtype)` instead.\n",
      "  if not hasattr(array, \"sparse\") and array.dtypes.apply(is_sparse).any():\n",
      "/opt/conda/lib/python3.10/site-packages/sklearn/utils/validation.py:605: FutureWarning: is_sparse is deprecated and will be removed in a future version. Check `isinstance(dtype, pd.SparseDtype)` instead.\n",
      "  if is_sparse(pd_dtype):\n",
      "/opt/conda/lib/python3.10/site-packages/sklearn/utils/validation.py:614: FutureWarning: is_sparse is deprecated and will be removed in a future version. Check `isinstance(dtype, pd.SparseDtype)` instead.\n",
      "  if is_sparse(pd_dtype) or not is_extension_array_dtype(pd_dtype):\n",
      "/opt/conda/lib/python3.10/site-packages/sklearn/utils/validation.py:767: FutureWarning: is_sparse is deprecated and will be removed in a future version. Check `isinstance(dtype, pd.SparseDtype)` instead.\n",
      "  if not hasattr(array, \"sparse\") and array.dtypes.apply(is_sparse).any():\n",
      "/opt/conda/lib/python3.10/site-packages/sklearn/utils/validation.py:605: FutureWarning: is_sparse is deprecated and will be removed in a future version. Check `isinstance(dtype, pd.SparseDtype)` instead.\n",
      "  if is_sparse(pd_dtype):\n",
      "/opt/conda/lib/python3.10/site-packages/sklearn/utils/validation.py:614: FutureWarning: is_sparse is deprecated and will be removed in a future version. Check `isinstance(dtype, pd.SparseDtype)` instead.\n",
      "  if is_sparse(pd_dtype) or not is_extension_array_dtype(pd_dtype):\n",
      "/opt/conda/lib/python3.10/site-packages/sklearn/utils/validation.py:767: FutureWarning: is_sparse is deprecated and will be removed in a future version. Check `isinstance(dtype, pd.SparseDtype)` instead.\n",
      "  if not hasattr(array, \"sparse\") and array.dtypes.apply(is_sparse).any():\n",
      "/opt/conda/lib/python3.10/site-packages/sklearn/utils/validation.py:605: FutureWarning: is_sparse is deprecated and will be removed in a future version. Check `isinstance(dtype, pd.SparseDtype)` instead.\n",
      "  if is_sparse(pd_dtype):\n",
      "/opt/conda/lib/python3.10/site-packages/sklearn/utils/validation.py:614: FutureWarning: is_sparse is deprecated and will be removed in a future version. Check `isinstance(dtype, pd.SparseDtype)` instead.\n",
      "  if is_sparse(pd_dtype) or not is_extension_array_dtype(pd_dtype):\n",
      "/opt/conda/lib/python3.10/site-packages/sklearn/utils/validation.py:767: FutureWarning: is_sparse is deprecated and will be removed in a future version. Check `isinstance(dtype, pd.SparseDtype)` instead.\n",
      "  if not hasattr(array, \"sparse\") and array.dtypes.apply(is_sparse).any():\n",
      "/opt/conda/lib/python3.10/site-packages/sklearn/utils/validation.py:605: FutureWarning: is_sparse is deprecated and will be removed in a future version. Check `isinstance(dtype, pd.SparseDtype)` instead.\n",
      "  if is_sparse(pd_dtype):\n",
      "/opt/conda/lib/python3.10/site-packages/sklearn/utils/validation.py:614: FutureWarning: is_sparse is deprecated and will be removed in a future version. Check `isinstance(dtype, pd.SparseDtype)` instead.\n",
      "  if is_sparse(pd_dtype) or not is_extension_array_dtype(pd_dtype):\n",
      "/opt/conda/lib/python3.10/site-packages/sklearn/utils/validation.py:767: FutureWarning: is_sparse is deprecated and will be removed in a future version. Check `isinstance(dtype, pd.SparseDtype)` instead.\n",
      "  if not hasattr(array, \"sparse\") and array.dtypes.apply(is_sparse).any():\n",
      "/opt/conda/lib/python3.10/site-packages/sklearn/utils/validation.py:605: FutureWarning: is_sparse is deprecated and will be removed in a future version. Check `isinstance(dtype, pd.SparseDtype)` instead.\n",
      "  if is_sparse(pd_dtype):\n",
      "/opt/conda/lib/python3.10/site-packages/sklearn/utils/validation.py:614: FutureWarning: is_sparse is deprecated and will be removed in a future version. Check `isinstance(dtype, pd.SparseDtype)` instead.\n",
      "  if is_sparse(pd_dtype) or not is_extension_array_dtype(pd_dtype):\n",
      "/opt/conda/lib/python3.10/site-packages/sklearn/utils/validation.py:767: FutureWarning: is_sparse is deprecated and will be removed in a future version. Check `isinstance(dtype, pd.SparseDtype)` instead.\n",
      "  if not hasattr(array, \"sparse\") and array.dtypes.apply(is_sparse).any():\n",
      "/opt/conda/lib/python3.10/site-packages/sklearn/utils/validation.py:605: FutureWarning: is_sparse is deprecated and will be removed in a future version. Check `isinstance(dtype, pd.SparseDtype)` instead.\n",
      "  if is_sparse(pd_dtype):\n",
      "/opt/conda/lib/python3.10/site-packages/sklearn/utils/validation.py:614: FutureWarning: is_sparse is deprecated and will be removed in a future version. Check `isinstance(dtype, pd.SparseDtype)` instead.\n",
      "  if is_sparse(pd_dtype) or not is_extension_array_dtype(pd_dtype):\n"
     ]
    }
   ],
   "source": [
    "import pandas as pd\n",
    "\n",
    "from sklearn.model_selection import train_test_split\n",
    "from sklearn.preprocessing import StandardScaler, OneHotEncoder\n",
    "from sklearn.impute import SimpleImputer\n",
    "from sklearn.pipeline import make_pipeline\n",
    "from sklearn.compose import make_column_transformer\n",
    "\n",
    "hotel = pd.read_csv('../input/dl-course-data/hotel.csv')\n",
    "\n",
    "X = hotel.copy()\n",
    "y = X.pop('is_canceled')\n",
    "\n",
    "X['arrival_date_month'] = \\\n",
    "    X['arrival_date_month'].map(\n",
    "        {'January':1, 'February': 2, 'March':3,\n",
    "         'April':4, 'May':5, 'June':6, 'July':7,\n",
    "         'August':8, 'September':9, 'October':10,\n",
    "         'November':11, 'December':12}\n",
    "    )\n",
    "\n",
    "features_num = [\n",
    "    \"lead_time\", \"arrival_date_week_number\",\n",
    "    \"arrival_date_day_of_month\", \"stays_in_weekend_nights\",\n",
    "    \"stays_in_week_nights\", \"adults\", \"children\", \"babies\",\n",
    "    \"is_repeated_guest\", \"previous_cancellations\",\n",
    "    \"previous_bookings_not_canceled\", \"required_car_parking_spaces\",\n",
    "    \"total_of_special_requests\", \"adr\",\n",
    "]\n",
    "features_cat = [\n",
    "    \"hotel\", \"arrival_date_month\", \"meal\",\n",
    "    \"market_segment\", \"distribution_channel\",\n",
    "    \"reserved_room_type\", \"deposit_type\", \"customer_type\",\n",
    "]\n",
    "\n",
    "transformer_num = make_pipeline(\n",
    "    SimpleImputer(strategy=\"constant\"), # there are a few missing values\n",
    "    StandardScaler(),\n",
    ")\n",
    "transformer_cat = make_pipeline(\n",
    "    SimpleImputer(strategy=\"constant\", fill_value=\"NA\"),\n",
    "    OneHotEncoder(handle_unknown='ignore'),\n",
    ")\n",
    "\n",
    "preprocessor = make_column_transformer(\n",
    "    (transformer_num, features_num),\n",
    "    (transformer_cat, features_cat),\n",
    ")\n",
    "\n",
    "# stratify - make sure classes are evenlly represented across splits\n",
    "X_train, X_valid, y_train, y_valid = \\\n",
    "    train_test_split(X, y, stratify=y, train_size=0.75)\n",
    "\n",
    "X_train = preprocessor.fit_transform(X_train)\n",
    "X_valid = preprocessor.transform(X_valid)\n",
    "\n",
    "input_shape = [X_train.shape[1]]"
   ]
  },
  {
   "cell_type": "markdown",
   "id": "5eb7b300",
   "metadata": {
    "papermill": {
     "duration": 0.005001,
     "end_time": "2023-11-11T16:51:16.551187",
     "exception": false,
     "start_time": "2023-11-11T16:51:16.546186",
     "status": "completed"
    },
    "tags": []
   },
   "source": [
    "# 1) Define Model #\n",
    "\n",
    "The model we'll use this time will have both batch normalization and dropout layers. To ease reading we've broken the diagram into blocks, but you can define it layer by layer as usual.\n",
    "\n",
    "Define a model with an architecture given by this diagram:\n",
    "\n",
    "<figure style=\"padding: 1em;\">\n",
    "<img src=\"https://storage.googleapis.com/kaggle-media/learn/images/V04o59Z.png\" width=\"400\" alt=\"Diagram of network architecture: BatchNorm, Dense, BatchNorm, Dropout, Dense, BatchNorm, Dropout, Dense.\">\n",
    "<figcaption style=\"textalign: center; font-style: italic\"><center>Diagram of a binary classifier.</center></figcaption>\n",
    "</figure>\n"
   ]
  },
  {
   "cell_type": "code",
   "execution_count": 3,
   "id": "4cc881f6",
   "metadata": {
    "execution": {
     "iopub.execute_input": "2023-11-11T16:51:16.561860Z",
     "iopub.status.busy": "2023-11-11T16:51:16.561529Z",
     "iopub.status.idle": "2023-11-11T16:51:31.199702Z",
     "shell.execute_reply": "2023-11-11T16:51:31.198782Z"
    },
    "lines_to_next_cell": 2,
    "papermill": {
     "duration": 14.64599,
     "end_time": "2023-11-11T16:51:31.201929",
     "exception": false,
     "start_time": "2023-11-11T16:51:16.555939",
     "status": "completed"
    },
    "tags": []
   },
   "outputs": [
    {
     "data": {
      "application/javascript": [
       "parent.postMessage({\"jupyterEvent\": \"custom.exercise_interaction\", \"data\": {\"outcomeType\": 1, \"valueTowardsCompletion\": 0.3333333333333333, \"interactionType\": 1, \"questionType\": 2, \"questionId\": \"1_Q1\", \"learnToolsVersion\": \"0.3.4\", \"failureMessage\": \"\", \"exceptionClass\": \"\", \"trace\": \"\"}}, \"*\")"
      ],
      "text/plain": [
       "<IPython.core.display.Javascript object>"
      ]
     },
     "metadata": {},
     "output_type": "display_data"
    },
    {
     "data": {
      "text/markdown": [
       "<span style=\"color:#33cc33\">Correct</span>"
      ],
      "text/plain": [
       "Correct"
      ]
     },
     "metadata": {},
     "output_type": "display_data"
    }
   ],
   "source": [
    "from tensorflow import keras\n",
    "from tensorflow.keras import layers\n",
    "\n",
    "# YOUR CODE HERE: define the model given in the diagram\n",
    "model = keras.Sequential([\n",
    "    layers.BatchNormalization(input_shape=input_shape),\n",
    "    layers.Dense(256, activation='relu'),\n",
    "    layers.BatchNormalization(),\n",
    "    layers.Dropout(.3),\n",
    "    layers.Dense(256, activation='relu'),    \n",
    "    layers.BatchNormalization(),\n",
    "    layers.Dropout(.3),\n",
    "    layers.Dense(1, activation='sigmoid'),\n",
    "])\n",
    "\n",
    "# Check your answer\n",
    "q_1.check()"
   ]
  },
  {
   "cell_type": "markdown",
   "id": "62537df6",
   "metadata": {
    "papermill": {
     "duration": 0.004786,
     "end_time": "2023-11-11T16:51:31.211779",
     "exception": false,
     "start_time": "2023-11-11T16:51:31.206993",
     "status": "completed"
    },
    "tags": []
   },
   "source": [
    "# 2) Add Optimizer, Loss, and Metric #\n",
    "\n",
    "Now compile the model with the Adam optimizer and binary versions of the cross-entropy loss and accuracy metric."
   ]
  },
  {
   "cell_type": "code",
   "execution_count": 4,
   "id": "cf10e3d8",
   "metadata": {
    "execution": {
     "iopub.execute_input": "2023-11-11T16:51:31.223251Z",
     "iopub.status.busy": "2023-11-11T16:51:31.222339Z",
     "iopub.status.idle": "2023-11-11T16:51:31.242174Z",
     "shell.execute_reply": "2023-11-11T16:51:31.241342Z"
    },
    "lines_to_next_cell": 0,
    "papermill": {
     "duration": 0.027388,
     "end_time": "2023-11-11T16:51:31.244032",
     "exception": false,
     "start_time": "2023-11-11T16:51:31.216644",
     "status": "completed"
    },
    "tags": []
   },
   "outputs": [
    {
     "data": {
      "application/javascript": [
       "parent.postMessage({\"jupyterEvent\": \"custom.exercise_interaction\", \"data\": {\"outcomeType\": 1, \"valueTowardsCompletion\": 0.3333333333333333, \"interactionType\": 1, \"questionType\": 2, \"questionId\": \"2_Q2\", \"learnToolsVersion\": \"0.3.4\", \"failureMessage\": \"\", \"exceptionClass\": \"\", \"trace\": \"\"}}, \"*\")"
      ],
      "text/plain": [
       "<IPython.core.display.Javascript object>"
      ]
     },
     "metadata": {},
     "output_type": "display_data"
    },
    {
     "data": {
      "text/markdown": [
       "<span style=\"color:#33cc33\">Correct</span>"
      ],
      "text/plain": [
       "Correct"
      ]
     },
     "metadata": {},
     "output_type": "display_data"
    }
   ],
   "source": [
    "# YOUR CODE HERE\n",
    "model.compile(\n",
    "    optimizer='adam',\n",
    "    loss='binary_crossentropy',\n",
    "    metrics=['binary_accuracy'],\n",
    ")\n",
    "\n",
    "# Check your answer\n",
    "q_2.check()"
   ]
  },
  {
   "cell_type": "code",
   "execution_count": 5,
   "id": "539fc462",
   "metadata": {
    "execution": {
     "iopub.execute_input": "2023-11-11T16:51:31.255668Z",
     "iopub.status.busy": "2023-11-11T16:51:31.255365Z",
     "iopub.status.idle": "2023-11-11T16:51:31.259118Z",
     "shell.execute_reply": "2023-11-11T16:51:31.258392Z"
    },
    "lines_to_next_cell": 0,
    "papermill": {
     "duration": 0.011741,
     "end_time": "2023-11-11T16:51:31.261030",
     "exception": false,
     "start_time": "2023-11-11T16:51:31.249289",
     "status": "completed"
    },
    "tags": []
   },
   "outputs": [],
   "source": [
    "# Lines below will give you a hint or solution code\n",
    "#q_2.hint()\n",
    "#q_2.solution()"
   ]
  },
  {
   "cell_type": "markdown",
   "id": "43dff748",
   "metadata": {
    "papermill": {
     "duration": 0.004969,
     "end_time": "2023-11-11T16:51:31.271221",
     "exception": false,
     "start_time": "2023-11-11T16:51:31.266252",
     "status": "completed"
    },
    "tags": []
   },
   "source": [
    "Finally, run this cell to train the model and view the learning curves. It may run for around 60 to 70 epochs, which could take a minute or two."
   ]
  },
  {
   "cell_type": "code",
   "execution_count": 6,
   "id": "8c2d1f37",
   "metadata": {
    "execution": {
     "iopub.execute_input": "2023-11-11T16:51:31.282774Z",
     "iopub.status.busy": "2023-11-11T16:51:31.282464Z",
     "iopub.status.idle": "2023-11-11T16:52:07.754555Z",
     "shell.execute_reply": "2023-11-11T16:52:07.753532Z"
    },
    "papermill": {
     "duration": 36.480399,
     "end_time": "2023-11-11T16:52:07.756806",
     "exception": false,
     "start_time": "2023-11-11T16:51:31.276407",
     "status": "completed"
    },
    "tags": []
   },
   "outputs": [
    {
     "name": "stdout",
     "output_type": "stream",
     "text": [
      "Epoch 1/200\n",
      "175/175 [==============================] - 7s 7ms/step - loss: 0.4826 - binary_accuracy: 0.7699 - val_loss: 0.4399 - val_binary_accuracy: 0.8098\n",
      "Epoch 2/200\n",
      "175/175 [==============================] - 1s 5ms/step - loss: 0.4231 - binary_accuracy: 0.8020 - val_loss: 0.4015 - val_binary_accuracy: 0.8157\n",
      "Epoch 3/200\n",
      "175/175 [==============================] - 1s 5ms/step - loss: 0.4093 - binary_accuracy: 0.8075 - val_loss: 0.3925 - val_binary_accuracy: 0.8186\n",
      "Epoch 4/200\n",
      "175/175 [==============================] - 1s 5ms/step - loss: 0.4022 - binary_accuracy: 0.8122 - val_loss: 0.3894 - val_binary_accuracy: 0.8212\n",
      "Epoch 5/200\n",
      "175/175 [==============================] - 1s 5ms/step - loss: 0.3977 - binary_accuracy: 0.8151 - val_loss: 0.3860 - val_binary_accuracy: 0.8224\n",
      "Epoch 6/200\n",
      "175/175 [==============================] - 1s 5ms/step - loss: 0.3934 - binary_accuracy: 0.8175 - val_loss: 0.3829 - val_binary_accuracy: 0.8226\n",
      "Epoch 7/200\n",
      "175/175 [==============================] - 1s 5ms/step - loss: 0.3893 - binary_accuracy: 0.8193 - val_loss: 0.3802 - val_binary_accuracy: 0.8272\n",
      "Epoch 8/200\n",
      "175/175 [==============================] - 1s 5ms/step - loss: 0.3856 - binary_accuracy: 0.8220 - val_loss: 0.3772 - val_binary_accuracy: 0.8272\n",
      "Epoch 9/200\n",
      "175/175 [==============================] - 1s 5ms/step - loss: 0.3822 - binary_accuracy: 0.8224 - val_loss: 0.3764 - val_binary_accuracy: 0.8273\n",
      "Epoch 10/200\n",
      "175/175 [==============================] - 1s 5ms/step - loss: 0.3802 - binary_accuracy: 0.8230 - val_loss: 0.3774 - val_binary_accuracy: 0.8281\n",
      "Epoch 11/200\n",
      "175/175 [==============================] - 1s 5ms/step - loss: 0.3772 - binary_accuracy: 0.8254 - val_loss: 0.3715 - val_binary_accuracy: 0.8306\n",
      "Epoch 12/200\n",
      "175/175 [==============================] - 1s 5ms/step - loss: 0.3748 - binary_accuracy: 0.8266 - val_loss: 0.3734 - val_binary_accuracy: 0.8313\n",
      "Epoch 13/200\n",
      "175/175 [==============================] - 1s 5ms/step - loss: 0.3716 - binary_accuracy: 0.8284 - val_loss: 0.3695 - val_binary_accuracy: 0.8306\n",
      "Epoch 14/200\n",
      "175/175 [==============================] - 1s 5ms/step - loss: 0.3711 - binary_accuracy: 0.8283 - val_loss: 0.3699 - val_binary_accuracy: 0.8297\n",
      "Epoch 15/200\n",
      "175/175 [==============================] - 1s 5ms/step - loss: 0.3692 - binary_accuracy: 0.8307 - val_loss: 0.3680 - val_binary_accuracy: 0.8330\n",
      "Epoch 16/200\n",
      "175/175 [==============================] - 1s 5ms/step - loss: 0.3661 - binary_accuracy: 0.8315 - val_loss: 0.3636 - val_binary_accuracy: 0.8331\n",
      "Epoch 17/200\n",
      "175/175 [==============================] - 1s 5ms/step - loss: 0.3653 - binary_accuracy: 0.8322 - val_loss: 0.3684 - val_binary_accuracy: 0.8300\n",
      "Epoch 18/200\n",
      "175/175 [==============================] - 1s 6ms/step - loss: 0.3637 - binary_accuracy: 0.8317 - val_loss: 0.3600 - val_binary_accuracy: 0.8352\n",
      "Epoch 19/200\n",
      "175/175 [==============================] - 1s 5ms/step - loss: 0.3614 - binary_accuracy: 0.8337 - val_loss: 0.3614 - val_binary_accuracy: 0.8341\n",
      "Epoch 20/200\n",
      "175/175 [==============================] - 1s 5ms/step - loss: 0.3606 - binary_accuracy: 0.8350 - val_loss: 0.3656 - val_binary_accuracy: 0.8332\n",
      "Epoch 21/200\n",
      "175/175 [==============================] - 1s 5ms/step - loss: 0.3584 - binary_accuracy: 0.8344 - val_loss: 0.3584 - val_binary_accuracy: 0.8343\n",
      "Epoch 22/200\n",
      "175/175 [==============================] - 1s 6ms/step - loss: 0.3576 - binary_accuracy: 0.8344 - val_loss: 0.3588 - val_binary_accuracy: 0.8358\n",
      "Epoch 23/200\n",
      "175/175 [==============================] - 1s 5ms/step - loss: 0.3563 - binary_accuracy: 0.8347 - val_loss: 0.3563 - val_binary_accuracy: 0.8363\n",
      "Epoch 24/200\n",
      "175/175 [==============================] - 1s 5ms/step - loss: 0.3550 - binary_accuracy: 0.8369 - val_loss: 0.3579 - val_binary_accuracy: 0.8350\n",
      "Epoch 25/200\n",
      "175/175 [==============================] - 1s 5ms/step - loss: 0.3529 - binary_accuracy: 0.8366 - val_loss: 0.3587 - val_binary_accuracy: 0.8345\n",
      "Epoch 26/200\n",
      "175/175 [==============================] - 1s 5ms/step - loss: 0.3529 - binary_accuracy: 0.8370 - val_loss: 0.3581 - val_binary_accuracy: 0.8370\n",
      "Epoch 27/200\n",
      "175/175 [==============================] - 1s 5ms/step - loss: 0.3514 - binary_accuracy: 0.8375 - val_loss: 0.3523 - val_binary_accuracy: 0.8378\n",
      "Epoch 28/200\n",
      "175/175 [==============================] - 1s 5ms/step - loss: 0.3492 - binary_accuracy: 0.8393 - val_loss: 0.3536 - val_binary_accuracy: 0.8367\n",
      "Epoch 29/200\n",
      "175/175 [==============================] - 1s 5ms/step - loss: 0.3489 - binary_accuracy: 0.8406 - val_loss: 0.3550 - val_binary_accuracy: 0.8359\n",
      "Epoch 30/200\n",
      "175/175 [==============================] - 1s 5ms/step - loss: 0.3471 - binary_accuracy: 0.8401 - val_loss: 0.3537 - val_binary_accuracy: 0.8395\n",
      "Epoch 31/200\n",
      "175/175 [==============================] - 1s 5ms/step - loss: 0.3483 - binary_accuracy: 0.8402 - val_loss: 0.3570 - val_binary_accuracy: 0.8374\n",
      "Epoch 32/200\n",
      "175/175 [==============================] - 1s 5ms/step - loss: 0.3456 - binary_accuracy: 0.8410 - val_loss: 0.3516 - val_binary_accuracy: 0.8394\n"
     ]
    },
    {
     "data": {
      "text/plain": [
       "<Axes: title={'center': 'Accuracy'}>"
      ]
     },
     "execution_count": 6,
     "metadata": {},
     "output_type": "execute_result"
    },
    {
     "data": {
      "image/png": "[encoded data removed]",
      "text/plain": [
       "<Figure size 640x480 with 1 Axes>"
      ]
     },
     "metadata": {},
     "output_type": "display_data"
    },
    {
     "data": {
      "image/png": "[encoded data removed]",
      "text/plain": [
       "<Figure size 640x480 with 1 Axes>"
      ]
     },
     "metadata": {},
     "output_type": "display_data"
    }
   ],
   "source": [
    "early_stopping = keras.callbacks.EarlyStopping(\n",
    "    patience=5,\n",
    "    min_delta=0.001,\n",
    "    restore_best_weights=True,\n",
    ")\n",
    "history = model.fit(\n",
    "    X_train, y_train,\n",
    "    validation_data=(X_valid, y_valid),\n",
    "    batch_size=512,\n",
    "    epochs=200,\n",
    "    callbacks=[early_stopping],\n",
    ")\n",
    "\n",
    "history_df = pd.DataFrame(history.history)\n",
    "history_df.loc[:, ['loss', 'val_loss']].plot(title=\"Cross-entropy\")\n",
    "history_df.loc[:, ['binary_accuracy', 'val_binary_accuracy']].plot(title=\"Accuracy\")"
   ]
  },
  {
   "cell_type": "markdown",
   "id": "607b74e7",
   "metadata": {
    "papermill": {
     "duration": 0.048286,
     "end_time": "2023-11-11T16:52:07.855459",
     "exception": false,
     "start_time": "2023-11-11T16:52:07.807173",
     "status": "completed"
    },
    "tags": []
   },
   "source": [
    "# 3) Train and Evaluate #\n",
    "\n",
    "\n",
    "What do you think about the learning curves? Does it look like the model underfit or overfit? Was the cross-entropy loss a good stand-in for accuracy?"
   ]
  },
  {
   "cell_type": "code",
   "execution_count": 7,
   "id": "61f173fd",
   "metadata": {
    "execution": {
     "iopub.execute_input": "2023-11-11T16:52:07.955414Z",
     "iopub.status.busy": "2023-11-11T16:52:07.955051Z",
     "iopub.status.idle": "2023-11-11T16:52:07.962516Z",
     "shell.execute_reply": "2023-11-11T16:52:07.961669Z"
    },
    "papermill": {
     "duration": 0.059621,
     "end_time": "2023-11-11T16:52:07.964511",
     "exception": false,
     "start_time": "2023-11-11T16:52:07.904890",
     "status": "completed"
    },
    "tags": []
   },
   "outputs": [
    {
     "data": {
      "application/javascript": [
       "parent.postMessage({\"jupyterEvent\": \"custom.exercise_interaction\", \"data\": {\"outcomeType\": 1, \"valueTowardsCompletion\": 0.3333333333333333, \"interactionType\": 1, \"questionType\": 4, \"questionId\": \"3_Q3\", \"learnToolsVersion\": \"0.3.4\", \"failureMessage\": \"\", \"exceptionClass\": \"\", \"trace\": \"\"}}, \"*\")"
      ],
      "text/plain": [
       "<IPython.core.display.Javascript object>"
      ]
     },
     "metadata": {},
     "output_type": "display_data"
    },
    {
     "data": {
      "text/markdown": [
       "<span style=\"color:#33cc33\">Correct:</span> \n",
       "\n",
       "Though we can see the training loss continuing to fall, the early stopping callback prevented any overfitting. Moreover, the accuracy rose at the same rate as the cross-entropy fell, so it appears that minimizing cross-entropy was a good stand-in. All in all, it looks like this training was a success!"
      ],
      "text/plain": [
       "Correct: \n",
       "\n",
       "Though we can see the training loss continuing to fall, the early stopping callback prevented any overfitting. Moreover, the accuracy rose at the same rate as the cross-entropy fell, so it appears that minimizing cross-entropy was a good stand-in. All in all, it looks like this training was a success!"
      ]
     },
     "metadata": {},
     "output_type": "display_data"
    }
   ],
   "source": [
    "# View the solution (Run this cell to receive credit!)\n",
    "q_3.check()"
   ]
  },
  {
   "cell_type": "markdown",
   "id": "0b79efc5",
   "metadata": {
    "papermill": {
     "duration": 0.048903,
     "end_time": "2023-11-11T16:52:08.063859",
     "exception": false,
     "start_time": "2023-11-11T16:52:08.014956",
     "status": "completed"
    },
    "tags": []
   },
   "source": [
    "# Conclusion #\n",
    "\n",
    "Congratulations! You've completed Kaggle's *Introduction to Deep Learning* course!\n",
    "\n",
    "With your new skills you're ready to take on more advanced applications like computer vision and sentiment classification. What would you like to do next?\n",
    "\n",
    "Why not try one of our *Getting Started* competitions?\n",
    "\n",
    "- Classify images with TPUs in [**Petals to the Metal**](https://www.kaggle.com/c/tpu-getting-started)\n",
    "- Create art with GANs in [**I'm Something of a Painter Myself**](https://www.kaggle.com/c/gan-getting-started)\n",
    "- Classify Tweets in [**Real or Not? NLP with Disaster Tweets**](https://www.kaggle.com/c/nlp-getting-started)\n",
    "- Detect contradiction and entailment in [**Contradictory, My Dear Watson**](https://www.kaggle.com/c/contradictory-my-dear-watson)\n",
    "\n",
    "Until next time, Kagglers!"
   ]
  },
  {
   "cell_type": "markdown",
   "id": "03cb2a20",
   "metadata": {
    "papermill": {
     "duration": 0.049212,
     "end_time": "2023-11-11T16:52:08.211759",
     "exception": false,
     "start_time": "2023-11-11T16:52:08.162547",
     "status": "completed"
    },
    "tags": []
   },
   "source": [
    "---\n",
    "\n",
    "\n",
    "\n",
    "\n",
    "*Have questions or comments? Visit the [course discussion forum](https://www.kaggle.com/learn/intro-to-deep-learning/discussion) to chat with other learners.*"
   ]
  }
 ],
 "metadata": {
  "kernelspec": {
   "display_name": "Python 3",
   "language": "python",
   "name": "python3"
  },
  "language_info": {
   "codemirror_mode": {
    "name": "ipython",
    "version": 3
   },
   "file_extension": ".py",
   "mimetype": "text/x-python",
   "name": "python",
   "nbconvert_exporter": "python",
   "pygments_lexer": "ipython3",
   "version": "3.10.12"
  },
  "papermill": {
   "default_parameters": {},
   "duration": 61.571072,
   "end_time": "2023-11-11T16:52:11.398520",
   "environment_variables": {},
   "exception": null,
   "input_path": "__notebook__.ipynb",
   "output_path": "__notebook__.ipynb",
   "parameters": {},
   "start_time": "2023-11-11T16:51:09.827448",
   "version": "2.4.0"
  }
 },
 "nbformat": 4,
 "nbformat_minor": 5
}
